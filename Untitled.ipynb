{
 "cells": [
  {
   "cell_type": "code",
   "execution_count": 1,
   "id": "9f6475a4-509c-488b-963e-3d437f0c52fc",
   "metadata": {},
   "outputs": [
    {
     "ename": "KeyError",
     "evalue": "'items'",
     "output_type": "error",
     "traceback": [
      "\u001b[0;31m---------------------------------------------------------------------------\u001b[0m",
      "\u001b[0;31mKeyError\u001b[0m                                  Traceback (most recent call last)",
      "\u001b[0;32m/var/folders/bq/h611w39126z983w301byykt00000gn/T/ipykernel_16735/3787924800.py\u001b[0m in \u001b[0;36m<module>\u001b[0;34m\u001b[0m\n\u001b[1;32m     16\u001b[0m \u001b[0;31m# btc_df\u001b[0m\u001b[0;34m\u001b[0m\u001b[0;34m\u001b[0m\u001b[0;34m\u001b[0m\u001b[0m\n\u001b[1;32m     17\u001b[0m \u001b[0;32mfor\u001b[0m \u001b[0mticker\u001b[0m \u001b[0;32min\u001b[0m \u001b[0mtickers_index\u001b[0m\u001b[0;34m:\u001b[0m\u001b[0;34m\u001b[0m\u001b[0;34m\u001b[0m\u001b[0m\n\u001b[0;32m---> 18\u001b[0;31m     \u001b[0myahoo_api_call\u001b[0m\u001b[0;34m(\u001b[0m\u001b[0mticker\u001b[0m\u001b[0;34m,\u001b[0m \u001b[0minterval\u001b[0m\u001b[0;34m=\u001b[0m\u001b[0;34m'1d'\u001b[0m\u001b[0;34m)\u001b[0m\u001b[0;34m\u001b[0m\u001b[0;34m\u001b[0m\u001b[0m\n\u001b[0m",
      "\u001b[0;32m~/Desktop/Performance/yahoo_api.py\u001b[0m in \u001b[0;36myahoo_api_call\u001b[0;34m(ticker, interval)\u001b[0m\n\u001b[1;32m     21\u001b[0m     \u001b[0mresults\u001b[0m\u001b[0;34m=\u001b[0m\u001b[0mdata\u001b[0m\u001b[0;34m.\u001b[0m\u001b[0mdecode\u001b[0m\u001b[0;34m(\u001b[0m\u001b[0;34m\"utf-8\"\u001b[0m\u001b[0;34m)\u001b[0m\u001b[0;34m\u001b[0m\u001b[0;34m\u001b[0m\u001b[0m\n\u001b[1;32m     22\u001b[0m     \u001b[0mdictionary\u001b[0m\u001b[0;34m=\u001b[0m\u001b[0mjson\u001b[0m\u001b[0;34m.\u001b[0m\u001b[0mloads\u001b[0m\u001b[0;34m(\u001b[0m\u001b[0mresults\u001b[0m\u001b[0;34m)\u001b[0m\u001b[0;34m\u001b[0m\u001b[0;34m\u001b[0m\u001b[0m\n\u001b[0;32m---> 23\u001b[0;31m     \u001b[0mitems\u001b[0m\u001b[0;34m=\u001b[0m\u001b[0mdictionary\u001b[0m\u001b[0;34m[\u001b[0m\u001b[0;34m'items'\u001b[0m\u001b[0;34m]\u001b[0m\u001b[0;34m\u001b[0m\u001b[0;34m\u001b[0m\u001b[0m\n\u001b[0m\u001b[1;32m     24\u001b[0m     \u001b[0mdataframe\u001b[0m\u001b[0;34m=\u001b[0m\u001b[0mpd\u001b[0m\u001b[0;34m.\u001b[0m\u001b[0mDataFrame\u001b[0m\u001b[0;34m(\u001b[0m\u001b[0mitems\u001b[0m\u001b[0;34m)\u001b[0m\u001b[0;34m.\u001b[0m\u001b[0mT\u001b[0m\u001b[0;34m.\u001b[0m\u001b[0mset_index\u001b[0m\u001b[0;34m(\u001b[0m\u001b[0;34m'date'\u001b[0m\u001b[0;34m)\u001b[0m\u001b[0;34m.\u001b[0m\u001b[0mdrop\u001b[0m\u001b[0;34m(\u001b[0m\u001b[0mcolumns\u001b[0m\u001b[0;34m=\u001b[0m\u001b[0;34m[\u001b[0m\u001b[0;34m'date_utc'\u001b[0m\u001b[0;34m,\u001b[0m\u001b[0;34m'adjclose'\u001b[0m\u001b[0;34m]\u001b[0m\u001b[0;34m)\u001b[0m\u001b[0;34m\u001b[0m\u001b[0;34m\u001b[0m\u001b[0m\n\u001b[1;32m     25\u001b[0m     \u001b[0;32mreturn\u001b[0m\u001b[0;34m(\u001b[0m\u001b[0mdataframe\u001b[0m\u001b[0;34m)\u001b[0m\u001b[0;34m\u001b[0m\u001b[0;34m\u001b[0m\u001b[0m\n",
      "\u001b[0;31mKeyError\u001b[0m: 'items'"
     ]
    }
   ],
   "source": [
    "import pandas as pd\n",
    "from pathlib import Path\n",
    "import numpy as np\n",
    "from yahoo_api import yahoo_api_call\n",
    "\n",
    "\n",
    "# %matplotlib inline\n",
    "\n",
    "# Import the data by reading in the CSV file and setting the DatetimeIndex \n",
    "# Review the first 5 rows of the DataFrame\n",
    "# YOUR CODE HERE\n",
    "# 'BTC-USD', 'ETH-USD', 'T', 'XOM', 'AAPL', 'MSFT', 'SQ', 'AGG', 'SPY'\n",
    "tickers_index=['BTC-USD','ETH-USD','SQ','SHOP','TSLA','NVDA','AAPL','GOOG','MSFT','SPY','AGG']\n",
    "\n",
    "# btc_df = yahoo_api_call('BTC-USD','ETH-USD','SQ','SHOP','TSLA','NVDA','AAPL','GOOG','MSFT','SPY','AGG').pct_change()\n",
    "# btc_df\n",
    "for ticker in tickers_index:\n",
    "    yahoo_api_call(ticker, interval='1d')\n"
   ]
  },
  {
   "cell_type": "code",
   "execution_count": null,
   "id": "f7f28c62-15e8-4e69-acda-9b6d034579af",
   "metadata": {},
   "outputs": [],
   "source": [
    "from dotenv import load_dotenv\n",
    "import os\n",
    "import http.client\n",
    "import json\n",
    "import pandas as pd\n",
    "\n",
    "ticker = \"BTC-USD\"\n",
    "interval= '1d'\n",
    "env_check=load_dotenv()\n",
    "if env_check==False:\n",
    "    print(\"Error- No .env file was found. Please make a .env file in this directory with your X-RapidAPI Key.\")\n",
    "load_dotenv()\n",
    "headers= {\n",
    "'X-RapidAPI-Key': os.getenv(\"X-RapidAPI-Key\"),\n",
    "'X-RapidAPI-Host': \"mboum-finance.p.rapidapi.com\"\n",
    "}\n",
    "conn = http.client.HTTPSConnection(\"mboum-finance.p.rapidapi.com\")\n",
    "\n",
    "conn.request(\"GET\", f\"/hi/history?symbol={ticker}&interval={interval}&diffandsplits=false\", headers=headers)\n",
    "\n",
    "res = conn.getresponse()\n",
    "data = res.read()\n",
    "results=data.decode(\"utf-8\")\n",
    "dictionary=json.loads(results)\n",
    "dictionary\n",
    "# items=dictionary['items']\n",
    "# dataframe=pd.DataFrame(items).T.set_index('date').drop(columns=['date_utc','adjclose'])\n",
    "# return(dataframe)"
   ]
  },
  {
   "cell_type": "code",
   "execution_count": null,
   "id": "732c8b21-6781-44b6-8969-013dd5a0248b",
   "metadata": {},
   "outputs": [],
   "source": []
  },
  {
   "cell_type": "code",
   "execution_count": null,
   "id": "2c947436-dd56-482f-b2f9-a7512eaf83c1",
   "metadata": {},
   "outputs": [],
   "source": []
  },
  {
   "cell_type": "code",
   "execution_count": null,
   "id": "721fd459-6e8e-4cae-8309-43c4e5c04ab1",
   "metadata": {},
   "outputs": [],
   "source": []
  },
  {
   "cell_type": "code",
   "execution_count": null,
   "id": "3c04f15a-49b2-4b61-bfa5-61a61c01fc19",
   "metadata": {},
   "outputs": [],
   "source": []
  },
  {
   "cell_type": "code",
   "execution_count": null,
   "id": "b925c6ca-9702-4e22-b473-2da58953631a",
   "metadata": {},
   "outputs": [],
   "source": []
  },
  {
   "cell_type": "code",
   "execution_count": null,
   "id": "0a50e18b-d0c0-481e-b4f0-dcb1ba40fa70",
   "metadata": {},
   "outputs": [],
   "source": []
  },
  {
   "cell_type": "code",
   "execution_count": null,
   "id": "b869bacc-a7a9-4c47-9ea3-800dcef4afab",
   "metadata": {},
   "outputs": [],
   "source": []
  },
  {
   "cell_type": "code",
   "execution_count": null,
   "id": "5f624194-a169-47aa-b8cb-e34d73a54806",
   "metadata": {},
   "outputs": [],
   "source": []
  },
  {
   "cell_type": "code",
   "execution_count": null,
   "id": "caad13b5-4826-4ccd-b042-63cff4534030",
   "metadata": {},
   "outputs": [],
   "source": []
  },
  {
   "cell_type": "code",
   "execution_count": null,
   "id": "f5f61e40-94a1-4708-af37-43d52831a090",
   "metadata": {},
   "outputs": [],
   "source": []
  }
 ],
 "metadata": {
  "kernelspec": {
   "display_name": "Python (dev)",
   "language": "python",
   "name": "dev"
  },
  "language_info": {
   "codemirror_mode": {
    "name": "ipython",
    "version": 3
   },
   "file_extension": ".py",
   "mimetype": "text/x-python",
   "name": "python",
   "nbconvert_exporter": "python",
   "pygments_lexer": "ipython3",
   "version": "3.7.13"
  }
 },
 "nbformat": 4,
 "nbformat_minor": 5
}
